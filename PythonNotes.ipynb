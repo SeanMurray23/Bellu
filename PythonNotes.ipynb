{
 "cells": [
  {
   "attachments": {},
   "cell_type": "markdown",
   "metadata": {},
   "source": [
    "Basic Project Structure for Python\n",
    "\n",
    "project_name/               <-- Project root - not the package\n",
    "    README.rst              <-- Overview Document\n",
    "    docs/                   <-- Project documentation\n",
    "    src/                    <-- Package/production code\n",
    "        package_name/       \n",
    "            __init__.py         \n",
    "            more_source.py      \n",
    "            subpackage1/        \n",
    "                __init__.py \n",
    "    tests/                  <-- All tests for the project\n",
    "        test_code.py        <--\n",
    "    setup.py                <--\n",
    "    "
   ]
  },
  {
   "cell_type": "code",
   "execution_count": null,
   "metadata": {},
   "outputs": [],
   "source": [
    "import setuptools\n",
    "\n",
    "setuptools.setup(\n",
    "    name=\"demo_reader\",\n",
    "    version=\"1.0.0\",\n",
    "    description=\"Tools for reading various files\",\n",
    "    packages='setuptools.findpackages('src')',\n",
    "    package_dir={'': 'src'})"
   ]
  },
  {
   "attachments": {},
   "cell_type": "markdown",
   "metadata": {},
   "source": []
  }
 ],
 "metadata": {
  "kernelspec": {
   "display_name": "Python 3",
   "language": "python",
   "name": "python3"
  },
  "language_info": {
   "name": "python",
   "version": "3.11.3"
  },
  "orig_nbformat": 4
 },
 "nbformat": 4,
 "nbformat_minor": 2
}
