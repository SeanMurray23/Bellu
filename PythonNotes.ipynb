{
 "cells": [
  {
   "attachments": {},
   "cell_type": "markdown",
   "metadata": {},
   "source": [
    "Basic Project Structure for Python\n",
    "\n",
    "project_name/               <-- Project root - not the package\n",
    "    README.rst              <-- Overview Document\n",
    "    docs/                   <-- Project documentation\n",
    "    src/                    <-- Package/production code\n",
    "        package_name/       \n",
    "            __init__.py         \n",
    "            more_source.py      \n",
    "            subpackage1/        \n",
    "                __init__.py \n",
    "    tests/                  <-- All tests for the project\n",
    "        test_code.py        <--\n",
    "    setup.py                <--\n",
    "    "
   ]
  }
 ],
 "metadata": {
  "kernelspec": {
   "display_name": "Python 3",
   "language": "python",
   "name": "python3"
  },
  "language_info": {
   "name": "python",
   "version": "3.11.3"
  },
  "orig_nbformat": 4
 },
 "nbformat": 4,
 "nbformat_minor": 2
}
